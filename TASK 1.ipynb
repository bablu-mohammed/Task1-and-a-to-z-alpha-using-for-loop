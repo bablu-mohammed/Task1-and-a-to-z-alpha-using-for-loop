{
 "cells": [
  {
   "cell_type": "code",
   "execution_count": 4,
   "id": "c33b2c25",
   "metadata": {},
   "outputs": [
    {
     "name": "stdout",
     "output_type": "stream",
     "text": [
      "enter a string:BABLU\n",
      "bablu\n"
     ]
    }
   ],
   "source": [
    "#convert the string into lower case:\n",
    "s=input(\"enter a string:\")\n",
    "l=s.lower()\n",
    "print(l)\n"
   ]
  },
  {
   "cell_type": "code",
   "execution_count": 16,
   "id": "48b97149",
   "metadata": {},
   "outputs": [
    {
     "name": "stdout",
     "output_type": "stream",
     "text": [
      "enter a string:bablu\n",
      "BABLU\n"
     ]
    }
   ],
   "source": [
    "st=input(\"enter a string:\")\n",
    "l1=st.upper()\n",
    "print(l1)"
   ]
  },
  {
   "cell_type": "code",
   "execution_count": 14,
   "id": "fcc061ff",
   "metadata": {},
   "outputs": [
    {
     "name": "stdout",
     "output_type": "stream",
     "text": [
      " PyThOn\n"
     ]
    }
   ],
   "source": [
    "#Write a program to convert only odd indexed characters to lower case:\n",
    "#input-PYTHON\n",
    "#output-PyThon\n",
    "a=\"PYTHON\"\n",
    "s=\" \"\n",
    "for i in range(len(a)):\n",
    "    if i%2==0:\n",
    "        s=s+a[i].upper()\n",
    "    else:\n",
    "        s=s+a[i].lower()\n",
    "print(s)\n",
    "    "
   ]
  },
  {
   "cell_type": "code",
   "execution_count": 15,
   "id": "c8abda9d",
   "metadata": {},
   "outputs": [
    {
     "name": "stdout",
     "output_type": "stream",
     "text": [
      " pYtHoN\n"
     ]
    }
   ],
   "source": [
    "#Write a program to convert only odd indexed characters to upper case:\n",
    "#input-PYTHON\n",
    "#output-pYtHoN\n",
    "a=\"PYTHON\"\n",
    "s=\" \"\n",
    "for i in range(len(a)):\n",
    "    if i%2==0:\n",
    "        s=s+a[i].lower()\n",
    "    else:\n",
    "        s=s+a[i].upper()\n",
    "print(s)"
   ]
  },
  {
   "cell_type": "code",
   "execution_count": 20,
   "id": "70aa795b",
   "metadata": {},
   "outputs": [
    {
     "name": "stdout",
     "output_type": "stream",
     "text": [
      "  * * * * \n",
      "*         *\n",
      "*         *\n",
      "*         *   \n",
      "  * * * *   * * \n"
     ]
    }
   ],
   "source": [
    "#a to z alphabets using for loop:\n",
    "i=[1,2,3,4,5]\n",
    "for a in i:\n",
    "    if a==1:\n",
    "        print(\"  * * * * \")\n",
    "    elif a==2:\n",
    "        print(\"*         *\")\n",
    "    elif a==3:\n",
    "        print(\"*         *\")\n",
    "    elif a==4:\n",
    "        print(\"*         *   \")\n",
    "    elif a==5:\n",
    "        print(\"  * * * *   * * \")\n",
    "    a=a+1"
   ]
  },
  {
   "cell_type": "code",
   "execution_count": 21,
   "id": "bb797432",
   "metadata": {},
   "outputs": [
    {
     "name": "stdout",
     "output_type": "stream",
     "text": [
      "*\n",
      "*\n",
      "* * * * * *\n",
      "*         *\n",
      "* * * * * *\n"
     ]
    }
   ],
   "source": [
    "i=[1,2,3,4,5]\n",
    "for a in i:\n",
    "    if a==1:\n",
    "        print(\"*\")\n",
    "    elif a==2:\n",
    "        print(\"*\")\n",
    "    elif a==3:\n",
    "        print(\"* * * * * *\")\n",
    "    elif a==4:\n",
    "        print(\"*         *\")\n",
    "    elif a==5:\n",
    "        print(\"* * * * * *\")\n",
    "    a=a+1\n",
    "    "
   ]
  },
  {
   "cell_type": "code",
   "execution_count": 22,
   "id": "7d6a1345",
   "metadata": {},
   "outputs": [
    {
     "name": "stdout",
     "output_type": "stream",
     "text": [
      "      * * * *\n",
      "    *\n",
      "    *\n",
      "    *\n",
      "      * * * *\n"
     ]
    }
   ],
   "source": [
    "i=[1,2,3,4,5]\n",
    "for a in i:\n",
    "    if a==1:\n",
    "        print(\"      * * * *\")\n",
    "    elif a==2:\n",
    "        print(\"    *\")\n",
    "    elif a==3:\n",
    "        print(\"    *\")\n",
    "    elif a==4:\n",
    "        print(\"    *\")\n",
    "    elif a==5:\n",
    "        print(\"      * * * *\")\n",
    "    a=a+1"
   ]
  },
  {
   "cell_type": "code",
   "execution_count": 26,
   "id": "1235c397",
   "metadata": {},
   "outputs": [
    {
     "name": "stdout",
     "output_type": "stream",
     "text": [
      "          *\n",
      "          *\n",
      "  * * * * *\n",
      "*         *\n",
      "  * * * * *\n"
     ]
    }
   ],
   "source": [
    "i=[1,2,3,4,5]\n",
    "for a in i:\n",
    "    if a==1:\n",
    "        print(\"          *\")\n",
    "    elif a==2:\n",
    "        print(\"          *\")\n",
    "    elif a==3:\n",
    "        print(\"  * * * * *\")\n",
    "    elif a==4:\n",
    "        print(\"*         *\")\n",
    "    elif a==5:\n",
    "        print(\"  * * * * *\")\n",
    "    a=a+1"
   ]
  },
  {
   "cell_type": "code",
   "execution_count": 27,
   "id": "e4924656",
   "metadata": {},
   "outputs": [
    {
     "name": "stdout",
     "output_type": "stream",
     "text": [
      "* * * * * *\n",
      "*         *\n",
      "* * * * * *\n",
      "*         \n",
      "* * * * * *\n"
     ]
    }
   ],
   "source": [
    "i=[1,2,3,4,5]\n",
    "for a in i:\n",
    "    if a==1:\n",
    "        print(\"* * * * * *\")\n",
    "    elif a==2:\n",
    "        print(\"*         *\")\n",
    "    elif a==3:\n",
    "        print(\"* * * * * *\")\n",
    "    elif a==4:\n",
    "        print(\"*         \")\n",
    "    elif a==5:\n",
    "        print(\"* * * * * *\")\n",
    "    a=a+1"
   ]
  },
  {
   "cell_type": "code",
   "execution_count": 28,
   "id": "d87aac6d",
   "metadata": {},
   "outputs": [
    {
     "name": "stdout",
     "output_type": "stream",
     "text": [
      "     *  *  *\n",
      "     *     *\n",
      "   *****\n",
      "     *\n",
      "     *\n"
     ]
    }
   ],
   "source": [
    "i=[1,2,3,4,5]\n",
    "for a in i:\n",
    "    if a==1:\n",
    "        print(\"     *  *  *\")\n",
    "    elif a==2:\n",
    "        print(\"     *     *\")\n",
    "    elif a==3:\n",
    "        print(\"   *****\")\n",
    "    elif a==4:\n",
    "        print(\"     *\")\n",
    "    elif a==5:\n",
    "        print(\"     *\")\n",
    "    a=a+1"
   ]
  },
  {
   "cell_type": "code",
   "execution_count": 29,
   "id": "1aef0a65",
   "metadata": {},
   "outputs": [
    {
     "name": "stdout",
     "output_type": "stream",
     "text": [
      "* * * * *\n",
      "*       *\n",
      "* * * * *\n",
      "        *\n",
      "* * * * *\n"
     ]
    }
   ],
   "source": [
    "i=[1,2,3,4,5]\n",
    "for a in i:\n",
    "    if a==1:\n",
    "        print(\"* * * * *\")\n",
    "    elif a==2:\n",
    "        print(\"*       *\")\n",
    "    elif a==3:\n",
    "        print(\"* * * * *\")\n",
    "    elif a==4:\n",
    "        print(\"        *\")\n",
    "    elif a==5:\n",
    "        print(\"* * * * *\")\n",
    "    a=a+1"
   ]
  },
  {
   "cell_type": "code",
   "execution_count": 30,
   "id": "f0afab34",
   "metadata": {},
   "outputs": [
    {
     "name": "stdout",
     "output_type": "stream",
     "text": [
      "*\n",
      "*\n",
      "* * * * * *\n",
      "*         *\n",
      "*         *\n"
     ]
    }
   ],
   "source": [
    "i=[1,2,3,4,5]\n",
    "for a in i:\n",
    "    if a==1:\n",
    "        print(\"*\")\n",
    "    elif a==2:\n",
    "        print(\"*\")\n",
    "    elif a==3:\n",
    "        print(\"* * * * * *\")\n",
    "    elif a==4:\n",
    "        print(\"*         *\")\n",
    "    elif a==5:\n",
    "        print(\"*         *\")\n",
    "    a=a+1"
   ]
  },
  {
   "cell_type": "code",
   "execution_count": 31,
   "id": "fc5795c5",
   "metadata": {},
   "outputs": [
    {
     "name": "stdout",
     "output_type": "stream",
     "text": [
      "*\n",
      "\n",
      "* \n",
      "*\n",
      "* \n"
     ]
    }
   ],
   "source": [
    "i=[1,2,3,4,5]\n",
    "for a in i:\n",
    "    if a==1:\n",
    "        print(\"*\")\n",
    "    elif a==2:\n",
    "        print(\"\")\n",
    "    elif a==3:\n",
    "        print(\"* \")\n",
    "    elif a==4:\n",
    "        print(\"*\")\n",
    "    elif a==5:\n",
    "        print(\"* \")\n",
    "    a=a+1"
   ]
  },
  {
   "cell_type": "code",
   "execution_count": 32,
   "id": "df5724f3",
   "metadata": {},
   "outputs": [
    {
     "name": "stdout",
     "output_type": "stream",
     "text": [
      "    *\n",
      "     \n",
      "    *\n",
      "*   *\n",
      "* * *\n"
     ]
    }
   ],
   "source": [
    "i=[1,2,3,4,5]\n",
    "for a in i:\n",
    "    if a==1:\n",
    "        print(\"    *\")\n",
    "    elif a==2:\n",
    "        print(\"     \")\n",
    "    elif a==3:\n",
    "        print(\"    *\")\n",
    "    elif a==4:\n",
    "        print(\"*   *\")\n",
    "    elif a==5:\n",
    "        print(\"* * *\")\n",
    "    a=a+1"
   ]
  },
  {
   "cell_type": "code",
   "execution_count": 33,
   "id": "9b7f54a2",
   "metadata": {},
   "outputs": [
    {
     "name": "stdout",
     "output_type": "stream",
     "text": [
      "*\n",
      "* \n",
      "*   *\n",
      "* *\n",
      "*   *\n"
     ]
    }
   ],
   "source": [
    "i=[1,2,3,4,5]\n",
    "for a in i:\n",
    "    if a==1:\n",
    "        print(\"*\")\n",
    "    elif a==2:\n",
    "        print(\"* \")\n",
    "    elif a==3:\n",
    "        print(\"*   *\")\n",
    "    elif a==4:\n",
    "        print(\"* *\")\n",
    "    elif a==5:\n",
    "        print(\"*   *\")\n",
    "    a=a+1"
   ]
  },
  {
   "cell_type": "code",
   "execution_count": 34,
   "id": "4f33553c",
   "metadata": {},
   "outputs": [
    {
     "name": "stdout",
     "output_type": "stream",
     "text": [
      "*\n",
      "*\n",
      "* \n",
      "*\n",
      "* \n"
     ]
    }
   ],
   "source": [
    "i=[1,2,3,4,5]\n",
    "for a in i:\n",
    "    if a==1:\n",
    "        print(\"*\")\n",
    "    elif a==2:\n",
    "        print(\"*\")\n",
    "    elif a==3:\n",
    "        print(\"* \")\n",
    "    elif a==4:\n",
    "        print(\"*\")\n",
    "    elif a==5:\n",
    "        print(\"* \")\n",
    "    a=a+1"
   ]
  },
  {
   "cell_type": "code",
   "execution_count": 35,
   "id": "82c0024d",
   "metadata": {},
   "outputs": [
    {
     "name": "stdout",
     "output_type": "stream",
     "text": [
      "\n",
      " *\n",
      "  *  * * *    \n",
      "  *   *   *\n",
      "  *   *   *\n"
     ]
    }
   ],
   "source": [
    "i=[1,2,3,4,5]\n",
    "for a in i:\n",
    "    if a==1:\n",
    "        print(\"\")\n",
    "    elif a==2:\n",
    "        print(\" *\")\n",
    "    elif a==3:\n",
    "        print(\"  *  * * *    \")\n",
    "    elif a==4:\n",
    "        print(\"  *   *   *\")\n",
    "    elif a==5:\n",
    "        print(\"  *   *   *\")\n",
    "    a=a+1"
   ]
  },
  {
   "cell_type": "code",
   "execution_count": 36,
   "id": "19cbf41f",
   "metadata": {},
   "outputs": [
    {
     "name": "stdout",
     "output_type": "stream",
     "text": [
      "\n",
      " *\n",
      "  *  * * *    \n",
      "  *       *\n",
      "  *       *\n"
     ]
    }
   ],
   "source": [
    "i=[1,2,3,4,5]\n",
    "for a in i:\n",
    "    if a==1:\n",
    "        print(\"\")\n",
    "    elif a==2:\n",
    "        print(\" *\")\n",
    "    elif a==3:\n",
    "        print(\"  *  * * *    \")\n",
    "    elif a==4:\n",
    "        print(\"  *       *\")\n",
    "    elif a==5:\n",
    "        print(\"  *       *\")\n",
    "    a=a+1"
   ]
  },
  {
   "cell_type": "code",
   "execution_count": 37,
   "id": "35afd484",
   "metadata": {},
   "outputs": [
    {
     "name": "stdout",
     "output_type": "stream",
     "text": [
      " \n",
      "  * * * * *\n",
      " *          *\n",
      " *          *\n",
      "  * * * * *\n"
     ]
    }
   ],
   "source": [
    "i=[1,2,3,4,5]\n",
    "for a in i:\n",
    "    if a==1:\n",
    "        print(\" \")\n",
    "    elif a==2:\n",
    "        print(\"  * * * * *\")\n",
    "    elif a==3:\n",
    "        print(\" *          *\")\n",
    "    elif a==4:\n",
    "        print(\" *          *\")\n",
    "    elif a==5:\n",
    "        print(\"  * * * * *\")\n",
    "    a=a+1"
   ]
  },
  {
   "cell_type": "code",
   "execution_count": 38,
   "id": "25ba55a6",
   "metadata": {},
   "outputs": [
    {
     "name": "stdout",
     "output_type": "stream",
     "text": [
      "*\n",
      "* * * * *\n",
      "*       *\n",
      "* * * * *\n",
      "* \n"
     ]
    }
   ],
   "source": [
    "i=[1,2,3,4,5]\n",
    "for a in i:\n",
    "    if a==1:\n",
    "        print(\"*\")\n",
    "    elif a==2:\n",
    "        print(\"* * * * *\")\n",
    "    elif a==3:\n",
    "        print(\"*       *\")\n",
    "    elif a==4:\n",
    "        print(\"* * * * *\")\n",
    "    elif a==5:\n",
    "        print(\"* \")\n",
    "    a=a+1"
   ]
  },
  {
   "cell_type": "code",
   "execution_count": 39,
   "id": "26d38338",
   "metadata": {},
   "outputs": [
    {
     "name": "stdout",
     "output_type": "stream",
     "text": [
      "* * * * *\n",
      "*       *\n",
      "* * * * *\n",
      "        *  *\n",
      "        * \n"
     ]
    }
   ],
   "source": [
    "i=[1,2,3,4,5]\n",
    "for a in i:\n",
    "    if a==1:\n",
    "        print(\"* * * * *\")\n",
    "    elif a==2:\n",
    "        print(\"*       *\")\n",
    "    elif a==3:\n",
    "        print(\"* * * * *\")\n",
    "    elif a==4:\n",
    "        print(\"        *  *\")\n",
    "    elif a==5:\n",
    "        print(\"        * \")\n",
    "    a=a+1"
   ]
  },
  {
   "cell_type": "code",
   "execution_count": 40,
   "id": "8a6f6a95",
   "metadata": {},
   "outputs": [
    {
     "name": "stdout",
     "output_type": "stream",
     "text": [
      "*\n",
      "* * * * *\n",
      "*       *\n",
      "* \n",
      "* \n"
     ]
    }
   ],
   "source": [
    "i=[1,2,3,4,5]\n",
    "for a in i:\n",
    "    if a==1:\n",
    "        print(\"*\")\n",
    "    elif a==2:\n",
    "        print(\"* * * * *\")\n",
    "    elif a==3:\n",
    "        print(\"*       *\")\n",
    "    elif a==4:\n",
    "        print(\"* \")\n",
    "    elif a==5:\n",
    "        print(\"* \")\n",
    "    a=a+1"
   ]
  },
  {
   "cell_type": "code",
   "execution_count": 41,
   "id": "a8466e1d",
   "metadata": {},
   "outputs": [
    {
     "name": "stdout",
     "output_type": "stream",
     "text": [
      "  * * * *\n",
      "* \n",
      "  * * * \n",
      "        *\n",
      "* * * * \n"
     ]
    }
   ],
   "source": [
    "i=[1,2,3,4,5]\n",
    "for a in i:\n",
    "    if a==1:\n",
    "        print(\"  * * * *\")\n",
    "    elif a==2:\n",
    "        print(\"* \")\n",
    "    elif a==3:\n",
    "        print(\"  * * * \")\n",
    "    elif a==4:\n",
    "        print(\"        *\")\n",
    "    elif a==5:\n",
    "        print(\"* * * * \")\n",
    "    a=a+1"
   ]
  },
  {
   "cell_type": "code",
   "execution_count": 42,
   "id": "3c35804f",
   "metadata": {},
   "outputs": [
    {
     "name": "stdout",
     "output_type": "stream",
     "text": [
      "       *\n",
      "       * \n",
      "   * * * * * \n",
      "       *  \n",
      "       * * * \n"
     ]
    }
   ],
   "source": [
    "i=[1,2,3,4,5]\n",
    "for a in i:\n",
    "    if a==1:\n",
    "        print(\"       *\")\n",
    "    elif a==2:\n",
    "        print(\"       * \")\n",
    "    elif a==3:\n",
    "        print(\"   * * * * * \")\n",
    "    elif a==4:\n",
    "        print(\"       *  \")\n",
    "    elif a==5:\n",
    "        print(\"       * * * \")\n",
    "    a=a+1"
   ]
  },
  {
   "cell_type": "code",
   "execution_count": 43,
   "id": "18273558",
   "metadata": {},
   "outputs": [
    {
     "name": "stdout",
     "output_type": "stream",
     "text": [
      "\n",
      "*       *\n",
      "*       *\n",
      "*       * \n",
      " * * * *  *\n"
     ]
    }
   ],
   "source": [
    "i=[1,2,3,4,5]\n",
    "for a in i:\n",
    "    if a==1:\n",
    "        print(\"\")\n",
    "    elif a==2:\n",
    "        print(\"*       *\")\n",
    "    elif a==3:\n",
    "        print(\"*       *\")\n",
    "    elif a==4:\n",
    "        print(\"*       * \")\n",
    "    elif a==5:\n",
    "        print(\" * * * *  *\")\n",
    "    a=a+1"
   ]
  },
  {
   "cell_type": "code",
   "execution_count": 44,
   "id": "3c02bf27",
   "metadata": {},
   "outputs": [
    {
     "name": "stdout",
     "output_type": "stream",
     "text": [
      "\n",
      "*       *\n",
      " *     *\n",
      "  *   * \n",
      "    *    \n"
     ]
    }
   ],
   "source": [
    "i=[1,2,3,4,5]\n",
    "for a in i:\n",
    "    if a==1:\n",
    "        print(\"\")\n",
    "    elif a==2:\n",
    "        print(\"*       *\")\n",
    "    elif a==3:\n",
    "        print(\" *     *\")\n",
    "    elif a==4:\n",
    "        print(\"  *   * \")\n",
    "    elif a==5:\n",
    "        print(\"    *    \")\n",
    "    a=a+1"
   ]
  },
  {
   "cell_type": "code",
   "execution_count": 45,
   "id": "a38496bc",
   "metadata": {},
   "outputs": [
    {
     "name": "stdout",
     "output_type": "stream",
     "text": [
      "\n",
      "*         *\n",
      "*         *\n",
      "*    *    * \n",
      "  *     *\n"
     ]
    }
   ],
   "source": [
    "i=[1,2,3,4,5]\n",
    "for a in i:\n",
    "    if a==1:\n",
    "        print(\"\")\n",
    "    elif a==2:\n",
    "        print(\"*         *\")\n",
    "    elif a==3:\n",
    "        print(\"*         *\")\n",
    "    elif a==4:\n",
    "        print(\"*    *    * \")\n",
    "    elif a==5:\n",
    "        print(\"  *     *\")\n",
    "    a=a+1"
   ]
  },
  {
   "cell_type": "code",
   "execution_count": 25,
   "id": "041066b5",
   "metadata": {},
   "outputs": [
    {
     "name": "stdout",
     "output_type": "stream",
     "text": [
      "* * *   * * *\n",
      "    *   *\n",
      "      *\n",
      "      *\n",
      "* * *   * * *\n"
     ]
    }
   ],
   "source": [
    "i=[1,2,3,4,5]\n",
    "for a in i:\n",
    "    if a==1:\n",
    "        print(\"* * *   * * *\")\n",
    "    elif a==2:\n",
    "        print(\"    *   *\")\n",
    "    elif a==3:\n",
    "        print(\"      *\")\n",
    "    elif a==4:\n",
    "        print(\"      *\")\n",
    "    elif a==5:\n",
    "        print(\"* * *   * * *\")\n",
    "    a=a+1"
   ]
  },
  {
   "cell_type": "code",
   "execution_count": 24,
   "id": "993080c2",
   "metadata": {},
   "outputs": [
    {
     "name": "stdout",
     "output_type": "stream",
     "text": [
      "*    *\n",
      "*    *\n",
      " * * *\n",
      "     *\n",
      "* * *\n"
     ]
    }
   ],
   "source": [
    "i=[1,2,3,4,5]\n",
    "for a in i:\n",
    "    if a==1:\n",
    "        print(\"*    *\")\n",
    "    elif a==2:\n",
    "        print(\"*    *\")\n",
    "    elif a==3:\n",
    "        print(\" * * *\")\n",
    "    elif a==4:\n",
    "        print(\"     *\")\n",
    "    elif a==5:\n",
    "        print(\"* * *\")\n",
    "    a=a+1"
   ]
  },
  {
   "cell_type": "code",
   "execution_count": 23,
   "id": "6a809f9e",
   "metadata": {},
   "outputs": [
    {
     "name": "stdout",
     "output_type": "stream",
     "text": [
      "\n",
      "* * * * * \n",
      "      *\n",
      "    *\n",
      "* * * * *\n"
     ]
    }
   ],
   "source": [
    "i=[1,2,3,4,5]\n",
    "for a in i:\n",
    "    if a==1:\n",
    "        print(\"\")\n",
    "    elif a==2:\n",
    "        print(\"* * * * * \")\n",
    "    elif a==3:\n",
    "        print(\"      *\")\n",
    "    elif a==4:\n",
    "        print(\"    *\")\n",
    "    elif a==5:\n",
    "        print(\"* * * * *\")\n",
    "    a=a+1"
   ]
  },
  {
   "cell_type": "code",
   "execution_count": null,
   "id": "dd9fc6a6",
   "metadata": {},
   "outputs": [],
   "source": []
  }
 ],
 "metadata": {
  "kernelspec": {
   "display_name": "Python 3 (ipykernel)",
   "language": "python",
   "name": "python3"
  },
  "language_info": {
   "codemirror_mode": {
    "name": "ipython",
    "version": 3
   },
   "file_extension": ".py",
   "mimetype": "text/x-python",
   "name": "python",
   "nbconvert_exporter": "python",
   "pygments_lexer": "ipython3",
   "version": "3.9.13"
  }
 },
 "nbformat": 4,
 "nbformat_minor": 5
}
